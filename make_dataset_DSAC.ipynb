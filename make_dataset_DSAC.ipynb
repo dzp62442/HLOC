{
 "cells": [
  {
   "attachments": {},
   "cell_type": "markdown",
   "metadata": {},
   "source": [
    "## 制作用于DSAC*的数据集格式"
   ]
  },
  {
   "cell_type": "code",
   "execution_count": 19,
   "metadata": {},
   "outputs": [
    {
     "name": "stdout",
     "output_type": "stream",
     "text": [
      "The autoreload extension is already loaded. To reload it, use:\n",
      "  %reload_ext autoreload\n"
     ]
    }
   ],
   "source": [
    "%load_ext autoreload\n",
    "%autoreload 2\n",
    "\n",
    "import os\n",
    "from pathlib import Path\n",
    "import numpy as np\n",
    "import pycolmap\n",
    "from tqdm import tqdm\n",
    "\n",
    "from hloc.utils import viz_3d, parsers\n",
    "from hloc.visualization import plot_images, read_image\n",
    "from hloc import extract_features, match_features, reconstruction, visualization, pairs_from_retrieval, pairs_from_exhaustive, localize_sfm"
   ]
  },
  {
   "cell_type": "code",
   "execution_count": 2,
   "metadata": {},
   "outputs": [
    {
     "name": "stdout",
     "output_type": "stream",
     "text": [
      "1.13.0+cu117\n",
      "11.7\n",
      "8500\n",
      "NVIDIA GeForce RTX 3050 Ti Laptop GPU\n"
     ]
    }
   ],
   "source": [
    "import torch\n",
    "print(torch.__version__)\n",
    "print(torch.version.cuda)\n",
    "print(torch.backends.cudnn.version())\n",
    "print(torch.cuda.get_device_name(0))"
   ]
  },
  {
   "attachments": {},
   "cell_type": "markdown",
   "metadata": {},
   "source": [
    "## 加载 SportsHall_Total 数据集"
   ]
  },
  {
   "cell_type": "code",
   "execution_count": 3,
   "metadata": {},
   "outputs": [],
   "source": [
    "# 配置路径和参数\n",
    "my_datasets = ['House11', 'SportsHall', 'SportsHall_Total']  # 11号楼、体育馆\n",
    "sfm_dataset = Path('datasets/' + my_datasets[2])  # 用于三维重建的数据集\n",
    "\n",
    "img_names = [r.relative_to(sfm_dataset).as_posix() for r in sfm_dataset.rglob(\"*/*\")]  # 全部图像相对于数据集根目录的文件名\n",
    "\n",
    "reference_imgs = sfm_dataset / 'reference/'  # 参考图像文件夹\n",
    "reference_names = [r.relative_to(sfm_dataset).as_posix() for r in reference_imgs.rglob(\"*/*\")]  # 相对于数据集根目录的文件名\n",
    "\n",
    "query_imgs = sfm_dataset / 'query/'  # 查询图像文件夹\n",
    "query_names = [q.relative_to(sfm_dataset).as_posix() for q in query_imgs.rglob(\"*/*\")]  # 相对于数据集根目录的文件名\n",
    "\n",
    "outputs = sfm_dataset / 'gt_hloc'  # 与官方不同，将outputs放置在数据集文件夹中\n",
    "\n",
    "sfm_dir = outputs / 'Total_sfm_spsg'  # 对参考图像和查询图像一起重建得到的 SfM 模型\n",
    "sfm_pairs = outputs / 'total_sfm_pairs.txt'  # 对参考图像和查询图像一起进行图像检索得到的配对\n",
    "loc_pairs = outputs / 'loc_pairs.txt'  # 与查询图像配对的参考图像\n",
    "\n",
    "retrieval = outputs / 'retrieval.h5'\n",
    "features = outputs / 'features.h5'\n",
    "matches = outputs / 'matches.h5'\n",
    "\n",
    "retrieval_conf = extract_features.confs['netvlad']\n",
    "feature_conf = extract_features.confs['superpoint_aachen']\n",
    "matcher_conf = match_features.confs['superglue']\n",
    "\n",
    "reference_intrinsics = outputs / 'reference_with_intrinsics.txt'  # 保存参考图像名称和估计的相机参数\n",
    "query_intrinsics = outputs / 'query_with_intrinsics.txt'  # 保存查询图像名称和估计的相机参数\n",
    "gt_reference_poses = outputs / 'gt_reference_poses.txt'  # 参考图像位姿真值（q4 t3）\n",
    "gt_query_poses = outputs / 'gt_query_poses.txt'  # 查询图像位姿真值（q4 t3）"
   ]
  },
  {
   "cell_type": "code",
   "execution_count": 4,
   "metadata": {},
   "outputs": [
    {
     "name": "stdout",
     "output_type": "stream",
     "text": [
      "datasets/SportsHall_Total/gt_hloc/Total_sfm_spsg\n",
      "Reconstruction:\n",
      "\tnum_reg_images = 1028\n",
      "\tnum_cameras = 6\n",
      "\tnum_points3D = 168024\n",
      "\tnum_observations = 1181579\n",
      "\tmean_track_length = 7.0322\n",
      "\tmean_observations_per_image = 1149.4\n",
      "\tmean_reprojection_error = 1.29746\n"
     ]
    }
   ],
   "source": [
    "print(sfm_dir)\n",
    "total_model = pycolmap.Reconstruction(sfm_dir)  # 加载三维重建模型\n",
    "total_name_to_id = {img.name: i for i, img in total_model.images.items()}  # 所有图片的名称对应的id\n",
    "print(total_model.summary())"
   ]
  },
  {
   "cell_type": "code",
   "execution_count": 29,
   "metadata": {},
   "outputs": [
    {
     "name": "stdout",
     "output_type": "stream",
     "text": [
      "6 Camera:\n",
      "\tcamera_id=6\n",
      "\tmodel = PINHOLE\n",
      "\twidth = 1920\n",
      "\theight = 1080\n",
      "\tnum_params = 4\n",
      "\tparams_info = fx, fy, cx, cy\n",
      "\tparams = 1348.938861, 1345.703944, 960.000000, 540.000000\n",
      "5 Camera:\n",
      "\tcamera_id=5\n",
      "\tmodel = PINHOLE\n",
      "\twidth = 1920\n",
      "\theight = 1080\n",
      "\tnum_params = 4\n",
      "\tparams_info = fx, fy, cx, cy\n",
      "\tparams = 1352.674412, 1346.690259, 960.000000, 540.000000\n",
      "4 Camera:\n",
      "\tcamera_id=4\n",
      "\tmodel = PINHOLE\n",
      "\twidth = 1920\n",
      "\theight = 1080\n",
      "\tnum_params = 4\n",
      "\tparams_info = fx, fy, cx, cy\n",
      "\tparams = 1350.234501, 1347.581837, 960.000000, 540.000000\n",
      "3 Camera:\n",
      "\tcamera_id=3\n",
      "\tmodel = PINHOLE\n",
      "\twidth = 1920\n",
      "\theight = 1080\n",
      "\tnum_params = 4\n",
      "\tparams_info = fx, fy, cx, cy\n",
      "\tparams = 1351.318503, 1348.960590, 960.000000, 540.000000\n",
      "2 Camera:\n",
      "\tcamera_id=2\n",
      "\tmodel = PINHOLE\n",
      "\twidth = 1920\n",
      "\theight = 1080\n",
      "\tnum_params = 4\n",
      "\tparams_info = fx, fy, cx, cy\n",
      "\tparams = 1333.949009, 1334.482231, 960.000000, 540.000000\n",
      "1 Camera:\n",
      "\tcamera_id=1\n",
      "\tmodel = PINHOLE\n",
      "\twidth = 1920\n",
      "\theight = 1080\n",
      "\tnum_params = 4\n",
      "\tparams_info = fx, fy, cx, cy\n",
      "\tparams = 1346.245030, 1342.250480, 960.000000, 540.000000\n",
      "1028 Image:\n",
      "\timage_id = 1028\n",
      "\tcamera_id = 6\n",
      "\tname = reference/WS/WS_990.jpg\n",
      "\ttriangulated = 893/1213\n",
      "\ttvec = [0.241124 0.370782  1.52376]\n",
      "\tqvec = [  0.994312 -0.0470577 -0.0825746   0.048066]\n",
      "[[ 0.98174219 -0.08781362 -0.16873365]\n",
      " [ 0.10335671  0.99095047  0.08564207]\n",
      " [ 0.15968615 -0.10151818  0.98193401]]\n",
      "[[ 0.98174219 -0.08781362 -0.16873365  0.24112447]\n",
      " [ 0.10335671  0.99095047  0.08564207  0.37078185]\n",
      " [ 0.15968615 -0.10151818  0.98193401  1.52376228]]\n"
     ]
    }
   ],
   "source": [
    "for camera_id, camera in total_model.cameras.items():\n",
    "    print(camera_id, camera.summary())\n",
    "    break\n",
    "\n",
    "for image_id, image in total_model.images.items():\n",
    "    print(image_id, image.summary())\n",
    "    print(image.rotmat())\n",
    "    print(image.projection_matrix())\n",
    "    break"
   ]
  },
  {
   "attachments": {},
   "cell_type": "markdown",
   "metadata": {},
   "source": [
    "## 保存到 DSAC 格式的数据集中"
   ]
  },
  {
   "cell_type": "code",
   "execution_count": 39,
   "metadata": {},
   "outputs": [],
   "source": [
    "# 配置路径和参数\n",
    "dsac_dataset = Path('datasets/' + my_datasets[2] + '_dsac')  # 用于三维重建的数据集\n",
    "\n",
    "test_dir = dsac_dataset / 'test'\n",
    "test_calibration = test_dir / 'calibration'\n",
    "test_poses = test_dir / 'poses'\n",
    "\n",
    "train_dir = dsac_dataset / 'training'\n",
    "train_calibration = train_dir / 'calibration'\n",
    "train_poses = train_dir / 'poses'\n",
    "\n",
    "homo = np.array([0, 0, 0, 1])"
   ]
  },
  {
   "cell_type": "code",
   "execution_count": 40,
   "metadata": {},
   "outputs": [
    {
     "name": "stderr",
     "output_type": "stream",
     "text": [
      "100%|██████████| 120/120 [00:00<00:00, 5777.28it/s]\n"
     ]
    }
   ],
   "source": [
    "# 保存测试集数据\n",
    "for name in tqdm(query_names):\n",
    "    image = total_model.find_image_with_name(name)\n",
    "    camera = total_model.cameras[image.camera_id]\n",
    "    save_name = name.split('/')[-1]\n",
    "    save_name = save_name.split('.')[0] + '.txt'\n",
    "\n",
    "    # 保存位姿\n",
    "    T_w_c = image.projection_matrix()  # pycolmap位姿变换矩阵为从世界坐标系到相机坐标系\n",
    "    T_w_c = np.vstack([T_w_c, homo])  # 写成齐次矩阵\n",
    "    T_c_w = np.linalg.inv(T_w_c)  # DSAC*位姿变换矩阵为从相机坐标到场景坐标\n",
    "    with open(test_poses / save_name, 'w', encoding='utf-8') as f:\n",
    "        np.savetxt(f, T_c_w)\n",
    "\n",
    "    # 保存相机参数\n",
    "    focal = (camera.params[0] + camera.params[1]) / 2\n",
    "    with open(test_calibration / save_name, 'w', encoding='utf-8') as f:\n",
    "        np.savetxt(f, [focal])"
   ]
  },
  {
   "cell_type": "code",
   "execution_count": 41,
   "metadata": {},
   "outputs": [
    {
     "name": "stderr",
     "output_type": "stream",
     "text": [
      "100%|██████████| 908/908 [00:00<00:00, 6275.83it/s]\n"
     ]
    }
   ],
   "source": [
    "# 保存训练集数据\n",
    "for name in tqdm(reference_names):\n",
    "    image = total_model.find_image_with_name(name)\n",
    "    camera = total_model.cameras[image.camera_id]\n",
    "    save_name = name.split('/')[-1]\n",
    "    save_name = save_name.split('.')[0] + '.txt'\n",
    "\n",
    "    # 保存位姿\n",
    "    T_w_c = image.projection_matrix()  # pycolmap位姿变换矩阵为从世界坐标系到相机坐标系\n",
    "    T_w_c = np.vstack([T_w_c, homo])  # 写成齐次矩阵\n",
    "    T_c_w = np.linalg.inv(T_w_c)  # DSAC*位姿变换矩阵为从相机坐标到场景坐标\n",
    "    with open(train_poses / save_name, 'w', encoding='utf-8') as f:\n",
    "        np.savetxt(f, T_c_w)\n",
    "\n",
    "    # 保存相机参数\n",
    "    focal = (camera.params[0] + camera.params[1]) / 2\n",
    "    with open(train_calibration / save_name, 'w', encoding='utf-8') as f:\n",
    "        np.savetxt(f, [focal])"
   ]
  }
 ],
 "metadata": {
  "kernelspec": {
   "display_name": "pytorch",
   "language": "python",
   "name": "python3"
  },
  "language_info": {
   "codemirror_mode": {
    "name": "ipython",
    "version": 3
   },
   "file_extension": ".py",
   "mimetype": "text/x-python",
   "name": "python",
   "nbconvert_exporter": "python",
   "pygments_lexer": "ipython3",
   "version": "3.8.13 (default, Mar 28 2022, 11:38:47) \n[GCC 7.5.0]"
  },
  "orig_nbformat": 4,
  "vscode": {
   "interpreter": {
    "hash": "74fb229842812a6088d974feb4abfdca5a30982deeca199778bb7d2e274bfb2f"
   }
  }
 },
 "nbformat": 4,
 "nbformat_minor": 2
}
